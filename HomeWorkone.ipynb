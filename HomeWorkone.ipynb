{
 "cells": [
  {
   "cell_type": "markdown",
   "id": "43b0cfc9-ec14-43c8-a7f0-9cc358c3afaa",
   "metadata": {},
   "source": [
    "# 第一題[myknn_regressor]"
   ]
  },
  {
   "cell_type": "code",
   "execution_count": 135,
   "id": "2b646138-d40f-4ac7-a40f-9aca529e76ec",
   "metadata": {},
   "outputs": [],
   "source": [
    "# given code\n",
    "import pickle\n",
    "from sklearn import preprocessing\n",
    "import numpy as np\n",
    "\n",
    "# Load data\n",
    "with open('msd_data1.pickle', 'rb') as fh1:\n",
    "    msd_data = pickle.load(fh1)\n",
    "\n",
    "doscaling = 1\n",
    "\n",
    "if (doscaling == 1):\n",
    "    xscaler = preprocessing.StandardScaler().fit(msd_data['X_train'])\n",
    "    #standardize feature values\n",
    "    X_train = xscaler.transform(msd_data['X_train'])\n",
    "    X_test = xscaler.transform(msd_data['X_test'])\n",
    "else:\n",
    "    X_train = msd_data['X_train']\n",
    "    X_test = msd_data['X_test']\n",
    "\n",
    "Y_train = msd_data['Y_train']\n",
    "Y_test = msd_data['Y_test']"
   ]
  },
  {
   "cell_type": "markdown",
   "id": "57e8eb24-12b8-4655-88e1-88fae97b7820",
   "metadata": {},
   "source": [
    "### Q1.1 myknn_regressor 的程式碼\n",
    "\n",
    "依據題目說明，使用 BruteForce 計算 X_test 中每首歌曲與 X_train 中所有歌曲的特徵距離。\n",
    "每個 X_test 掃過所有的 X_train 之後，會得到 Y_train 中距離最近的 k 個年份。\n",
    "依據輸入的 mean_type 分別使用 equal_weight 或 remove_outliers 來計算 Y_test 的結果。\n",
    "最後會得到我們計算的 Y_test 並回傳 ypred 完成此部分"
   ]
  },
  {
   "cell_type": "code",
   "execution_count": 144,
   "id": "ea9dc2ce-363d-475b-a9bd-3b8000bac389",
   "metadata": {},
   "outputs": [],
   "source": [
    "class myknn_regressor():\n",
    "    def __init__(self, n_neighbors, mean_type):\n",
    "        \"\"\"mean_type can be equal_weight or remove_outliers.\n",
    "                              equal_weight use the same weight for all neighbors.\n",
    "                              remove_outliers remove neighbors out in [Q1 - 1.5 IQR, Q3 + 1.5IQR].\"\"\"\n",
    "        self.n_neighbors = n_neighbors\n",
    "        self.mean_type = mean_type\n",
    "\n",
    "    def fit(self, x_train, y_train):\n",
    "        self.x_train = x_train\n",
    "        self.y_train = y_train\n",
    "\n",
    "    def predict(self, x_test):\n",
    "        \"\"\"use remove_outliers only if k>=10\"\"\"\n",
    "        self.x_test = x_test\n",
    "        k = self.n_neighbors\n",
    "        x_train = self.x_train\n",
    "        y_train = self.y_train\n",
    "        mean_type = self.mean_type\n",
    "        max_dis = 5.0 #測試與記錄用\n",
    "        y_predict = np.empty((len(x_test),1), dtype=int) #建立一個存結果的 y_predict\n",
    "        \n",
    "        for a in range(len(x_test)):\n",
    "\n",
    "            neighbors = np.empty((k,2),dtype=float )\n",
    "            test_counter = 0\n",
    "            dis_temp = 0.0\n",
    "            \n",
    "            for j in x_train:\n",
    "                \n",
    "                # 第一部分先把 neighbors 填滿\n",
    "                \n",
    "                if(test_counter<k): #前k個 x_train\n",
    "                    for l in range(len(j)):\n",
    "                        dis_temp = dis_temp + (((x_test[a][l]-j[l])**2)**0.5) #計算兩個點之間的距離\n",
    "                    dis_temp = dis_temp/len(j) #平均\n",
    "                    if (dis_temp<max_dis): #更新極值\n",
    "                        max_dis = dis_temp\n",
    "                    neighbors[test_counter][0]=dis_temp\n",
    "                    neighbors[test_counter][1]=y_train[test_counter]\n",
    "                \n",
    "                # 第二部分跟 neighbors 比較距離，如果距離比 neighbors 中的更短就更新\n",
    "                \n",
    "                else:\n",
    "                    for l in range(len(j)):\n",
    "                        dis_temp = dis_temp + (((x_test[a][l]-j[l])**2)**0.5) #計算兩個點之間的距離\n",
    "                    dis_temp = dis_temp/len(j) #平均\n",
    "                    # 開始跟前k個比較，有沒有比前k個中最遠的更近，有的話就更新\n",
    "                    if (dis_temp<max_dis): #更新極值 note:有必要這個步驟嗎？\n",
    "                        max_dis = dis_temp\n",
    "                    for i in range(k):\n",
    "                        if(dis_temp < neighbors[i][0]):\n",
    "                            neighbors[i][0]=dis_temp\n",
    "                            neighbors[i][1]=y_train[test_counter]\n",
    "                            break\n",
    "                \n",
    "                # 更新參數\n",
    "                test_counter+=1\n",
    "                dis_temp = 0.0\n",
    "\n",
    "            # 判斷 mean_type\n",
    "            if(mean_type == \"remove_outliers\"):\n",
    "\n",
    "                #新增一個 array 排序，找出 quantile\n",
    "                quantile = np.empty((k,1),dtype=float)\n",
    "                ro_outcome = 0\n",
    "                for i in range(k):\n",
    "                    ro_outcome += neighbors[i][1]\n",
    "                    quantile[i] = neighbors[i][1]\n",
    "\n",
    "                # bubble sort\n",
    "                for m in range(k):\n",
    "                    for n in range(k-1):\n",
    "                        if(quantile[n]>quantile[n+1]):\n",
    "                            temp = quantile[n]\n",
    "                            quantile[n] = quantile[n+1]\n",
    "                            quantile[n+1] = temp\n",
    "\n",
    "                # 計算出 outlier 的範圍\n",
    "                Q1 = int((k+1)*0.25)\n",
    "                Q3 = int((k+1)*0.75)\n",
    "                IQR = quantile[Q3]-quantile[Q1]\n",
    "                Out_low = quantile[Q1]-(IQR*1.5)\n",
    "                Out_high = quantile[Q3]+(IQR*1.5)\n",
    "\n",
    "                if(k<10):\n",
    "                    ro_outcome = ro_outcome/k\n",
    "                else:\n",
    "                    ro_outcome = 0\n",
    "                    ro_count = 0\n",
    "                    for i in range(k):\n",
    "                        if(neighbors[i][1]>=Out_low) and (neighbors[i][1]<=Out_high):\n",
    "                            ro_outcome += neighbors[i][1]\n",
    "                            ro_count += 1\n",
    "                    ro_outcome = ro_outcome/ro_count\n",
    "                y_predict[a]=ro_outcome\n",
    "\n",
    "            else:\n",
    "                ew_outcome = 0\n",
    "                for i in range(k):\n",
    "                    ew_outcome += neighbors[i][1]\n",
    "                ew_outcome = ew_outcome/k\n",
    "                y_predict[a]=ew_outcome\n",
    "        \n",
    "        ### 回傳預測結果\n",
    "        return y_predict"
   ]
  },
  {
   "cell_type": "markdown",
   "id": "9438acfb-b0a4-4afb-b6df-f3db7de10d00",
   "metadata": {},
   "source": [
    "定義 RMSE 的計算過程，提供後續使用"
   ]
  },
  {
   "cell_type": "code",
   "execution_count": 145,
   "id": "d5afd9c8-b568-4127-b611-6cfa86796af2",
   "metadata": {},
   "outputs": [],
   "source": [
    "### 計算 RMSE \n",
    "\n",
    "def RMSE(y_pred,y_test):    \n",
    "    MSE = 0\n",
    "    for b in range(len(y_test)):\n",
    "        MSE += (y_pred[b]-y_test[b])**2\n",
    "    RMSE = (MSE/len(y_test))**0.5\n",
    "    return(RMSE)"
   ]
  },
  {
   "cell_type": "markdown",
   "id": "c5403780-c10a-48d0-bc54-3ad4a297ec8f",
   "metadata": {},
   "source": [
    "### Q1.2 \n",
    "\n",
    "設定 k=20, mean_type = equal_weight\n",
    "並輸出預測的前20筆結果，以及此次預測的 RMSE"
   ]
  },
  {
   "cell_type": "code",
   "execution_count": 147,
   "id": "127c6528-d561-42c9-844d-a7c8e2582118",
   "metadata": {},
   "outputs": [
    {
     "name": "stdout",
     "output_type": "stream",
     "text": [
      "[[1990]\n",
      " [1996]\n",
      " [1997]\n",
      " [1990]\n",
      " [1989]\n",
      " [1993]\n",
      " [1990]\n",
      " [1997]\n",
      " [2001]\n",
      " [2003]\n",
      " [2000]\n",
      " [2001]\n",
      " [1995]\n",
      " [1998]\n",
      " [1988]\n",
      " [1993]\n",
      " [1990]\n",
      " [2000]\n",
      " [2002]\n",
      " [1995]]\n",
      "[10.51032825]\n"
     ]
    }
   ],
   "source": [
    "### test arc 1###\n",
    "myknn = myknn_regressor(20, \"equal_weight\")\n",
    "myknn.fit(X_train, Y_train)\n",
    "ypred = myknn.predict(X_test)\n",
    "evaluate = RMSE(ypred,Y_test)\n",
    "\n",
    "print(ypred[:20])\n",
    "print(evaluate)"
   ]
  },
  {
   "cell_type": "markdown",
   "id": "d19bcb18-6cbb-46d3-9934-ea300abd5f19",
   "metadata": {},
   "source": [
    "### Q1.3 \n",
    "\n",
    "設定 k=20, mean_type = remove_outliers\n",
    "並輸出預測的前20筆結果，以及此次預測的 RMSE"
   ]
  },
  {
   "cell_type": "code",
   "execution_count": 146,
   "id": "5763b09b-8653-4bab-be7b-9b927c353b95",
   "metadata": {},
   "outputs": [
    {
     "name": "stdout",
     "output_type": "stream",
     "text": [
      "[[1962]\n",
      " [1975]\n",
      " [1977]\n",
      " [1989]\n",
      " [1971]\n",
      " [1970]\n",
      " [1967]\n",
      " [1996]\n",
      " [2001]\n",
      " [2003]\n",
      " [2000]\n",
      " [1992]\n",
      " [1971]\n",
      " [1992]\n",
      " [1978]\n",
      " [1978]\n",
      " [1962]\n",
      " [2000]\n",
      " [2002]\n",
      " [1995]]\n",
      "[21.74039251]\n"
     ]
    }
   ],
   "source": [
    "### test arc 2###\n",
    "myknn2 = myknn_regressor(20, \"remove_outliers\")\n",
    "myknn2.fit(X_train, Y_train)\n",
    "ypred2 = myknn2.predict(X_test)\n",
    "evaluate2 = RMSE(ypred2,Y_test)\n",
    "\n",
    "print(ypred2[:20])\n",
    "print(evaluate2)"
   ]
  },
  {
   "cell_type": "markdown",
   "id": "222ca967-23ff-4ccf-a5b9-eaa370dbdc82",
   "metadata": {},
   "source": [
    "### Q1 結果\n",
    "\n",
    "在預期中，使用 remove_outliers 來計算預測結果應該要有較好的結果。\n",
    "但從我寫的結果中使用 equal_weight 所算出來的 RMSE 明顯比 remove_outliers 好很多"
   ]
  },
  {
   "cell_type": "code",
   "execution_count": null,
   "id": "a4aaf85d-86d2-4d6b-9265-a9d3a97c9345",
   "metadata": {},
   "outputs": [],
   "source": []
  }
 ],
 "metadata": {
  "kernelspec": {
   "display_name": "Python 3 (ipykernel)",
   "language": "python",
   "name": "python3"
  },
  "language_info": {
   "codemirror_mode": {
    "name": "ipython",
    "version": 3
   },
   "file_extension": ".py",
   "mimetype": "text/x-python",
   "name": "python",
   "nbconvert_exporter": "python",
   "pygments_lexer": "ipython3",
   "version": "3.10.9"
  }
 },
 "nbformat": 4,
 "nbformat_minor": 5
}
